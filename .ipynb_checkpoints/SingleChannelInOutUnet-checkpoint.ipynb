{
 "cells": [
  {
   "cell_type": "code",
   "execution_count": 10,
   "metadata": {},
   "outputs": [],
   "source": [
    "import sys\n",
    "sys.path.insert(0, \".HelperFunctions\")\n",
    "from GenerateTrainingDataSingleChannel import CreateTrainingData, getTrainingTiles\n",
    "from UNetModels import UNet\n",
    "from PlotLearningModels import plotloss\n",
    "from LossFunctions import dice_coef_loss, dice_coef\n",
    "import numpy as np"
   ]
  },
  {
   "cell_type": "code",
   "execution_count": 14,
   "metadata": {},
   "outputs": [
    {
     "name": "stdout",
     "output_type": "stream",
     "text": [
      "Zero padding all images to the max size found:  2048 2048\n"
     ]
    },
    {
     "name": "stderr",
     "output_type": "stream",
     "text": [
      "HelperFunctions/Normalize.py:48: UserWarning: Converting data type from 'float64' to ImageJ-compatible 'float32'.\n",
      "  warnings.warn(\"Converting data type from '%s' to ImageJ-compatible '%s'.\" % (t, np.dtype(t_new)))\n",
      "HelperFunctions/Normalize.py:160: FutureWarning: Using a non-tuple sequence for multidimensional indexing is deprecated; use `arr[tuple(seq)]` instead of `arr[seq]`. In the future this will be interpreted as an array index, `arr[np.array(seq)]`, which will result either in an error or a different result.\n",
      "  x = x[slices]\n",
      "HelperFunctions/Normalize.py:48: UserWarning: Converting data type from 'int64' to ImageJ-compatible 'int16'.\n",
      "  warnings.warn(\"Converting data type from '%s' to ImageJ-compatible '%s'.\" % (t, np.dtype(t_new)))\n"
     ]
    }
   ],
   "source": [
    "ImageDirectory = '/Users/aimachine/Documents/OzgaDeepLearning/images/'\n",
    "MaskDirectory = '/Users/aimachine/Documents/OzgaDeepLearning/masks/'\n",
    "\n",
    "Input_Channels = 1\n",
    "Output_Channels = 1\n",
    "batchsize = 8\n",
    "epochs = 40\n",
    "reload = False\n",
    "##size of image patches for training \n",
    "## note: must be divisible by 32 for UNet \n",
    "\n",
    "PATCH_HEIGHT, PATCH_WIDTH = 128,128\n",
    "\n",
    "\n",
    "rankfourX, rankfourY = CreateTrainingData(ImageDirectory, MaskDirectory)\n",
    "\n",
    "\n",
    "X, Y = getTrainingTiles(rankfourX, rankfourY,PATCH_HEIGHT,PATCH_WIDTH)"
   ]
  },
  {
   "cell_type": "code",
   "execution_count": 15,
   "metadata": {},
   "outputs": [
    {
     "name": "stdout",
     "output_type": "stream",
     "text": [
      "X training: (8, 128, 128, 1)\n",
      "X validation: (2, 128, 128, 1)\n",
      "Y training: (8, 128, 128, 1)\n",
      "Y validation: (2, 128, 128, 1)\n"
     ]
    }
   ],
   "source": [
    "from sklearn.model_selection import train_test_split\n",
    "x_validation, x_train, y_validation, y_train = train_test_split(X, Y, test_size=.8)\n",
    "print('X training: {}'.format(x_train.shape))\n",
    "print('X validation: {}'.format(x_validation.shape))\n",
    "print('Y training: {}'.format(y_train.shape))\n",
    "print('Y validation: {}'.format(y_validation.shape))"
   ]
  },
  {
   "cell_type": "code",
   "execution_count": 16,
   "metadata": {},
   "outputs": [
    {
     "name": "stdout",
     "output_type": "stream",
     "text": [
      "(?, ?, ?, ?) shape\n",
      "(?, ?, ?, ?) shape\n"
     ]
    },
    {
     "ename": "NameError",
     "evalue": "name 'plotLoss' is not defined",
     "output_type": "error",
     "traceback": [
      "\u001b[0;31m---------------------------------------------------------------------------\u001b[0m",
      "\u001b[0;31mNameError\u001b[0m                                 Traceback (most recent call last)",
      "\u001b[0;32m<ipython-input-16-8fc2c3474d5c>\u001b[0m in \u001b[0;36m<module>\u001b[0;34m()\u001b[0m\n\u001b[1;32m      4\u001b[0m                     \u001b[0mverbose\u001b[0m\u001b[0;34m=\u001b[0m\u001b[0;36m1\u001b[0m\u001b[0;34m,\u001b[0m \u001b[0mshuffle\u001b[0m\u001b[0;34m=\u001b[0m\u001b[0;32mTrue\u001b[0m\u001b[0;34m,\u001b[0m\u001b[0;34m\u001b[0m\u001b[0m\n\u001b[1;32m      5\u001b[0m                     \u001b[0mvalidation_data\u001b[0m\u001b[0;34m=\u001b[0m\u001b[0;34m(\u001b[0m\u001b[0mx_validation\u001b[0m\u001b[0;34m,\u001b[0m \u001b[0my_validation\u001b[0m\u001b[0;34m)\u001b[0m\u001b[0;34m,\u001b[0m\u001b[0;34m\u001b[0m\u001b[0m\n\u001b[0;32m----> 6\u001b[0;31m                     callbacks=[plotLoss])\n\u001b[0m",
      "\u001b[0;31mNameError\u001b[0m: name 'plotLoss' is not defined"
     ]
    }
   ],
   "source": [
    "model_unet = UNet(n_input_channels=Input_Channels, n_output_channels=Output_Channels)\n",
    "model_unet.compile(optimizer='adam', loss=dice_coef_loss, metrics=[dice_coef])\n",
    "history_unet = model_unet.fit(x_train, y_train, batch_size=batchsize, epochs=epochs, \n",
    "                    verbose=1, shuffle=True, \n",
    "                    validation_data=(x_validation, y_validation),\n",
    "                    callbacks=[plotLoss])"
   ]
  },
  {
   "cell_type": "code",
   "execution_count": null,
   "metadata": {},
   "outputs": [],
   "source": []
  }
 ],
 "metadata": {
  "kernelspec": {
   "display_name": "Python [conda env:tensorflowpy3pt5]",
   "language": "python",
   "name": "conda-env-tensorflowpy3pt5-py"
  },
  "language_info": {
   "codemirror_mode": {
    "name": "ipython",
    "version": 3
   },
   "file_extension": ".py",
   "mimetype": "text/x-python",
   "name": "python",
   "nbconvert_exporter": "python",
   "pygments_lexer": "ipython3",
   "version": "3.5.5"
  }
 },
 "nbformat": 4,
 "nbformat_minor": 2
}
